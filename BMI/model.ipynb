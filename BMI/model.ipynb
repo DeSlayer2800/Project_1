{
 "cells": [
  {
   "cell_type": "code",
   "execution_count": 1,
   "metadata": {},
   "outputs": [],
   "source": [
    "import pandas as pd\n",
    "from sklearn.model_selection import train_test_split\n",
    "from sklearn.naive_bayes import GaussianNB\n",
    "from sklearn.metrics import accuracy_score\n",
    "import pandas as pd\n",
    "import numpy as np\n",
    "import matplotlib.pyplot as plt\n",
    "import seaborn as sns\n",
    "import warnings\n",
    "filename='bmi.csv'\n",
    "data=pd.read_csv(filename)\n"
   ]
  },
  {
   "cell_type": "code",
   "execution_count": 2,
   "metadata": {},
   "outputs": [
    {
     "data": {
      "text/plain": [
       "Age           int64\n",
       "Height      float64\n",
       "Weight      float64\n",
       "Bmi         float64\n",
       "BmiClass     object\n",
       "dtype: object"
      ]
     },
     "execution_count": 2,
     "metadata": {},
     "output_type": "execute_result"
    }
   ],
   "source": [
    "\n",
    "data.dtypes"
   ]
  },
  {
   "cell_type": "code",
   "execution_count": 3,
   "metadata": {},
   "outputs": [
    {
     "data": {
      "text/plain": [
       "<bound method NDFrame.head of      Age  Height  Weight        Bmi       BmiClass\n",
       "0     61    1.85  109.30  31.935720  Obese Class 1\n",
       "1     60    1.71   79.02  27.023700     Overweight\n",
       "2     60    1.55   74.70  31.092612  Obese Class 1\n",
       "3     60    1.46   35.90  16.841809    Underweight\n",
       "4     60    1.58   97.10  38.896010  Obese Class 2\n",
       "..   ...     ...     ...        ...            ...\n",
       "736   34    1.86   95.70  27.662157     Overweight\n",
       "737   44    1.91  106.90  29.302925     Overweight\n",
       "738   25    1.82   88.40  26.687598     Overweight\n",
       "739   35    1.88   98.50  27.868945     Overweight\n",
       "740   45    1.93  109.90  29.504148     Overweight\n",
       "\n",
       "[741 rows x 5 columns]>"
      ]
     },
     "execution_count": 3,
     "metadata": {},
     "output_type": "execute_result"
    }
   ],
   "source": [
    "data.head"
   ]
  },
  {
   "cell_type": "code",
   "execution_count": 4,
   "metadata": {},
   "outputs": [],
   "source": [
    "X = data.drop('BmiClass', axis=1)\n",
    "y = data['BmiClass']\n",
    "from sklearn.ensemble import GradientBoostingClassifier"
   ]
  },
  {
   "cell_type": "code",
   "execution_count": 5,
   "metadata": {},
   "outputs": [
    {
     "name": "stdout",
     "output_type": "stream",
     "text": [
      "Accuracy: 0.99\n"
     ]
    }
   ],
   "source": [
    "clf = GradientBoostingClassifier(n_estimators=100, random_state=42)\n",
    "X_train, X_test, y_train, y_test = train_test_split(X, y, test_size=0.3, random_state=42)\n",
    "\n",
    "clf.fit(X_train, y_train)\n",
    "\n",
    "y_pred = clf.predict(X_test)\n",
    "\n",
    "accuracy = accuracy_score(y_test, y_pred)\n",
    "print(f\"Accuracy: {accuracy:.2f}\")"
   ]
  },
  {
   "cell_type": "code",
   "execution_count": 6,
   "metadata": {},
   "outputs": [
    {
     "data": {
      "text/plain": [
       "['gradient_boosting_model.pkl']"
      ]
     },
     "execution_count": 6,
     "metadata": {},
     "output_type": "execute_result"
    }
   ],
   "source": [
    "import joblib\n",
    "\n",
    "# Assuming you've already trained the model 'clf'\n",
    "\n",
    "# Save the trained model to a file\n",
    "joblib.dump(clf, 'gradient_boosting_model.pkl')"
   ]
  },
  {
   "cell_type": "code",
   "execution_count": 7,
   "metadata": {},
   "outputs": [],
   "source": [
    "loaded_model = joblib.load('gradient_boosting_model.pkl')"
   ]
  },
  {
   "cell_type": "code",
   "execution_count": 8,
   "metadata": {},
   "outputs": [],
   "source": [
    "from sklearn.preprocessing import LabelEncoder\n",
    "\n",
    "# Label encoding for the target variable\n",
    "label_encoder = LabelEncoder()\n",
    "y_encoded = label_encoder.fit_transform(y)\n"
   ]
  },
  {
   "cell_type": "code",
   "execution_count": 9,
   "metadata": {},
   "outputs": [],
   "source": [
    "from sklearn.preprocessing import OneHotEncoder\n",
    "\n",
    "# One-hot encoding for the target variable\n",
    "onehot_encoder = OneHotEncoder()\n",
    "y_encoded = onehot_encoder.fit_transform(y.values.reshape(-1, 1))\n"
   ]
  },
  {
   "cell_type": "code",
   "execution_count": 10,
   "metadata": {},
   "outputs": [
    {
     "name": "stdout",
     "output_type": "stream",
     "text": [
      "['Underweight']\n"
     ]
    },
    {
     "name": "stderr",
     "output_type": "stream",
     "text": [
      "C:\\Users\\user\\Anaconda3\\Lib\\site-packages\\sklearn\\base.py:464: UserWarning: X does not have valid feature names, but GradientBoostingClassifier was fitted with feature names\n",
      "  warnings.warn(\n"
     ]
    }
   ],
   "source": [
    "import numpy as np\n",
    "\n",
    "# Example data - age,height in cm, weight\n",
    "example = np.array([[35, 175, 40]])\n",
    "height_meters = example[0,1] / 100\n",
    "    \n",
    "# Calculate BMI\n",
    "bmi = example[0,2] / (height_meters ** 2)\n",
    "\n",
    "e = np.array([[35, 175, 70, bmi]])\n",
    "# Make predictions using the loaded model\n",
    "predicted_class = loaded_model.predict(e)\n",
    "\n",
    "\n",
    "print( predicted_class)\n"
   ]
  },
  {
   "cell_type": "code",
   "execution_count": 11,
   "metadata": {},
   "outputs": [
    {
     "name": "stdout",
     "output_type": "stream",
     "text": [
      "You are underweight. It's important to focus on nutrient-dense foods to gain healthy weight. Include plenty of protein-rich foods such as chicken, fish, eggs, and legumes. Additionally, incorporate healthy fats from sources like avocados, nuts, and olive oil. Complex carbohydrates like whole grains, sweet potatoes, and oats can provide energy. Don't forget to add plenty of fruits and vegetables for vitamins and minerals. Consider consulting with a nutritionist for personalized advice.\n"
     ]
    }
   ],
   "source": [
    "if predicted_class == 'Underweight':\n",
    "    diet_recommendation = \"You are underweight. It's important to focus on nutrient-dense foods to gain healthy weight. Include plenty of protein-rich foods such as chicken, fish, eggs, and legumes. Additionally, incorporate healthy fats from sources like avocados, nuts, and olive oil. Complex carbohydrates like whole grains, sweet potatoes, and oats can provide energy. Don't forget to add plenty of fruits and vegetables for vitamins and minerals. Consider consulting with a nutritionist for personalized advice.\"\n",
    "elif predicted_class == 'Normal Weight':\n",
    "    diet_recommendation = \"Congratulations! You are at a healthy weight. Maintain your current diet by eating a balanced mix of protein, carbohydrates, and fats. Include lean proteins like chicken, turkey, and tofu, along with whole grains such as brown rice and quinoa. Incorporate a variety of fruits and vegetables for essential nutrients. Snack on nuts, seeds, or yogurt for healthy fats and additional protein. Limit processed foods and added sugars.\"\n",
    "elif predicted_class == 'Overweight':\n",
    "    diet_recommendation = \"You are overweight. Focus on a balanced diet with plenty of fruits, vegetables, lean protein, and whole grains. Incorporate lean protein sources like grilled chicken, fish, and tofu. Choose whole grains such as quinoa, barley, and whole wheat bread instead of refined carbohydrates. Include plenty of fruits and vegetables for fiber and essential nutrients. Limit your intake of processed foods, sugary snacks, and high-fat foods. Incorporating regular exercise can also help you achieve a healthier weight.\"\n",
    "elif predicted_class == 'Obese Class 1':\n",
    "    diet_recommendation = \"You are in the Obese Class 1 category. It's crucial to make significant changes to your diet and lifestyle. Focus on portion control, increase physical activity, and emphasize nutrient-rich foods like vegetables, fruits, lean proteins, and whole grains. Choose lean protein sources such as grilled chicken, turkey, and fish. Incorporate plenty of leafy greens, colorful vegetables, and whole grains like quinoa and brown rice. Limit processed foods, sugary snacks, and high-calorie beverages. Consulting with a healthcare provider or nutritionist is recommended to create a personalized plan.\"\n",
    "elif predicted_class == 'Obese Class 2':\n",
    "    diet_recommendation = \"You are in the Obese Class 2 category. Immediate action is necessary to improve your health. Consult with a healthcare provider or nutritionist to develop a comprehensive plan that includes a balanced diet, regular exercise, and possibly medical intervention. Focus on portion control, reducing calorie intake, and increasing physical activity. Choose lean protein sources such as chicken breast, fish, and legumes. Incorporate plenty of non-starchy vegetables and whole grains. Limit processed foods, sugary snacks, and high-fat foods. Prioritize your health and seek support to make sustainable lifestyle changes.\"\n",
    "elif predicted_class == 'Obese Class 3':\n",
    "    diet_recommendation = \"You are in the Obese Class 3 category, also known as morbidly obese. This is a serious health condition requiring urgent attention. It's essential to work closely with healthcare professionals, including doctors, dietitians, and possibly bariatric specialists, to develop a comprehensive weight loss plan. This plan may include dietary changes, increased physical activity, behavioral therapy, and in some cases, surgical intervention. Prioritize your health and seek support to make sustainable lifestyle changes. Choose lean protein sources such as chicken, turkey, fish, and tofu. Incorporate plenty of non-starchy vegetables, whole grains, and legumes. Limit processed foods, sugary snacks, and high-fat foods. Drink plenty of water and avoid sugary beverages.\"\n",
    "else:\n",
    "    diet_recommendation = \"Sorry, the prediction is not recognized. Please consult with a healthcare professional for personalized advice.\"\n",
    "\n",
    "print(diet_recommendation)"
   ]
  },
  {
   "cell_type": "code",
   "execution_count": null,
   "metadata": {},
   "outputs": [],
   "source": []
  },
  {
   "cell_type": "code",
   "execution_count": null,
   "metadata": {},
   "outputs": [],
   "source": []
  },
  {
   "cell_type": "code",
   "execution_count": null,
   "metadata": {},
   "outputs": [],
   "source": []
  },
  {
   "cell_type": "code",
   "execution_count": null,
   "metadata": {},
   "outputs": [],
   "source": []
  },
  {
   "cell_type": "code",
   "execution_count": null,
   "metadata": {},
   "outputs": [],
   "source": []
  }
 ],
 "metadata": {
  "kernelspec": {
   "display_name": "Python 3 (ipykernel)",
   "language": "python",
   "name": "python3"
  },
  "language_info": {
   "codemirror_mode": {
    "name": "ipython",
    "version": 3
   },
   "file_extension": ".py",
   "mimetype": "text/x-python",
   "name": "python",
   "nbconvert_exporter": "python",
   "pygments_lexer": "ipython3",
   "version": "3.11.5"
  }
 },
 "nbformat": 4,
 "nbformat_minor": 2
}
